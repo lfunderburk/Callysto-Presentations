{
 "cells": [
  {
   "cell_type": "markdown",
   "metadata": {
    "slideshow": {
     "slide_type": "slide"
    }
   },
   "source": [
    "# Coding with Python (and Turtles)\n",
    "\n",
    "We'll be learning some computational thinking using [Python](https://www.python.org/) and [turtles](https://docs.python.org/3.3/library/turtle.html?highlight=turtle).\n",
    "\n",
    "We can run Python code online in a [Jupyter notebook](https://jupyter.org/), like this one. A Jupyter notebook is a document that can have text, multimedia, and code."
   ]
  },
  {
   "cell_type": "markdown",
   "metadata": {
    "slideshow": {
     "slide_type": "subslide"
    }
   },
   "source": [
    "To get your own copy of this notebook, go to **bit.ly/HayTurtles**\n",
    "\n",
    "It will ask you to log in, use your school Google account. This will create a Callysto Hub account for you and copy this notebook from GitHub.\n",
    "\n",
    "You'll notice that the notebook has \"cells\" that are either text (**markdown**) or **code**. You can create new cells with the `+` button and run cells with the `Run` button.\n",
    "\n",
    "A code cell this is runing will have a `[*]` beside it. You can use the `■` (stop) button if seems to be taking too long."
   ]
  },
  {
   "cell_type": "markdown",
   "metadata": {
    "slideshow": {
     "slide_type": "slide"
    }
   },
   "source": [
    "## Python\n",
    "\n",
    "Python is one of the most used computer coding languages. We can do calculations with Python:"
   ]
  },
  {
   "cell_type": "code",
   "execution_count": null,
   "metadata": {
    "slideshow": {
     "slide_type": "subslide"
    }
   },
   "outputs": [],
   "source": [
    "2 + 5"
   ]
  },
  {
   "cell_type": "markdown",
   "metadata": {
    "slideshow": {
     "slide_type": "subslide"
    }
   },
   "source": [
    "and make graphs:"
   ]
  },
  {
   "cell_type": "code",
   "execution_count": null,
   "metadata": {
    "slideshow": {
     "slide_type": "subslide"
    }
   },
   "outputs": [],
   "source": [
    "import matplotlib.pyplot as plt\n",
    "%matplotlib inline\n",
    "labels = ['Pepperoni', 'Hawaiian', 'Cheese', 'Other']\n",
    "sizes = [7, 6, 9, 3]\n",
    "plt.title('Pizza Preferences')\n",
    "plt.bar(labels, sizes)\n",
    "plt.show()"
   ]
  },
  {
   "cell_type": "markdown",
   "metadata": {
    "slideshow": {
     "slide_type": "subslide"
    }
   },
   "source": [
    "do some data science:"
   ]
  },
  {
   "cell_type": "code",
   "execution_count": null,
   "metadata": {
    "slideshow": {
     "slide_type": "subslide"
    }
   },
   "outputs": [],
   "source": [
    "import requests\n",
    "import pandas as pd\n",
    "import plotly.express as px\n",
    "response = requests.get('https://www.waterlevels.gc.ca/eng/station?sid=215')\n",
    "dfs = pd.read_html(response.text) # construct dataframe\n",
    "tideHeight = dfs[7]['Hour'].transpose() # select the 7th frame and transpose columns and rows\n",
    "tideList = [] # construct a list from the tideHeight data\n",
    "for key i n tideHeight.keys():\n",
    "    tideList.extend(tideHeight[key].tolist())\n",
    "df = pd.DataFrame(tideList) # turn the list into a dataframe\n",
    "df.columns = ['Height (m)'] # label the height column\n",
    "df['Time (h)'] = range(0,len(tideList)) # add a time (in hours) column\n",
    "fig = px.line(df, x='Time (h)', y='Height (m)', title='Joggins Wharf Tide Data') # create graph\n",
    "fig.show()"
   ]
  },
  {
   "cell_type": "markdown",
   "metadata": {
    "slideshow": {
     "slide_type": "subslide"
    }
   },
   "source": [
    "and even embed YouTube videos"
   ]
  },
  {
   "cell_type": "code",
   "execution_count": null,
   "metadata": {
    "slideshow": {
     "slide_type": "subslide"
    }
   },
   "outputs": [],
   "source": [
    "from IPython.display import YouTubeVideo\n",
    "YouTubeVideo('lRHsDJQobtM')"
   ]
  },
  {
   "cell_type": "markdown",
   "metadata": {
    "slideshow": {
     "slide_type": "slide"
    }
   },
   "source": [
    "### Turtles\n",
    "Today we are going to program some turtles to create art."
   ]
  },
  {
   "cell_type": "code",
   "execution_count": null,
   "metadata": {
    "slideshow": {
     "slide_type": "subslide"
    }
   },
   "outputs": [],
   "source": [
    "from mobilechelonian import Turtle\n",
    "t = Turtle()\n",
    "t.forward(50)\n",
    "t.right(90)\n",
    "t.forward(50)"
   ]
  },
  {
   "cell_type": "markdown",
   "metadata": {
    "slideshow": {
     "slide_type": "slide"
    }
   },
   "source": [
    "### Turtle Commands\n",
    "\n",
    "`t.speed(integer)`\n",
    "Speed of your turtle, 1-10\n",
    "\n",
    "`t.penup()`\n",
    "`t.pendown()`\n",
    "For drawing lines or not\n",
    "\n",
    "`t.right(degrees)`\n",
    "`t.left(degrees)`\n",
    "Turn turtle left or right by some degree\n",
    "\n",
    "`t.forward(units)`\n",
    "`t.backward(units)`\n",
    "Move your turtle forward or backward\n",
    "\n",
    "`t.pencolor(“color”)`\n",
    "Color of your turtle’s line, e.g. “blue”\n",
    "\n",
    "`t.setposition(x,y)`\n",
    "Move turtle to position x,y\n",
    "\n",
    "`t.circle(r, degrees)`\n",
    "Move through part of a circle of radius $r$ through some number of degrees\n",
    "\n"
   ]
  },
  {
   "cell_type": "markdown",
   "metadata": {
    "slideshow": {
     "slide_type": "slide"
    }
   },
   "source": [
    "Use those commands to have your turtle draw a house, something like this:\n",
    "\n",
    "![Turtle House](https://github.com/callysto/TMTeachingTurtles/raw/master/TMPythonTurtles/images/turtle-house.png)"
   ]
  },
  {
   "cell_type": "code",
   "execution_count": null,
   "metadata": {
    "slideshow": {
     "slide_type": "subslide"
    }
   },
   "outputs": [],
   "source": [
    "# Add your code below\n",
    "from mobilechelonian import Turtle\n",
    "t = Turtle()\n",
    "t.speed(10)\n"
   ]
  },
  {
   "cell_type": "code",
   "execution_count": null,
   "metadata": {
    "slideshow": {
     "slide_type": "slide"
    }
   },
   "outputs": [],
   "source": [
    "# Once you have completed your house, try editing this to do other cool things\n",
    "t = Turtle()\n",
    "t.speed(10)\n",
    "\n",
    "color_list = ['red', 'orange', 'yellow', 'green', 'blue', 'violet']\n",
    "\n",
    "def draw_a_box(size):\n",
    "    for i in range(4):\n",
    "        t.forward(size)\n",
    "        t.right(90)\n",
    "\n",
    "for i in range(18):\n",
    "    t.pencolor(color_list[i%len(color_list)])\n",
    "    draw_a_box(100)\n",
    "    t.right(20)  # 360/18=20"
   ]
  },
  {
   "cell_type": "markdown",
   "metadata": {
    "slideshow": {
     "slide_type": "slide"
    }
   },
   "source": [
    "#### Turtle Writing\n",
    "Can you program a turtle to spell your name?"
   ]
  },
  {
   "cell_type": "code",
   "execution_count": null,
   "metadata": {
    "slideshow": {
     "slide_type": "subslide"
    }
   },
   "outputs": [],
   "source": [
    "t = Turtle()\n",
    "t.speed(10)\n",
    "t.penup()\n",
    "t.setposition(50, 200)\n",
    "t.pendown()\n",
    "\n",
    "# H\n",
    "t.left(90)\n",
    "t.forward(50)\n",
    "t.backward(25)\n",
    "t.right(90)\n",
    "t.forward(25)\n",
    "t.left(90)\n",
    "t.forward(25)\n",
    "t.backward(50)\n",
    "t.penup()\n",
    "\n",
    "t.right(90)\n",
    "t.forward(25)\n",
    "\n",
    "t.pendown()"
   ]
  },
  {
   "cell_type": "markdown",
   "metadata": {
    "slideshow": {
     "slide_type": "slide"
    }
   },
   "source": [
    "#### Turtle Maple Leaf\n",
    "\n",
    "Perhaps try drawing a maple leaf with a turtle.\n",
    "![Maple Leaf](https://upload.wikimedia.org/wikipedia/commons/thumb/f/fd/Maple_Leaf.svg/200px-Maple_Leaf.svg.png)"
   ]
  },
  {
   "cell_type": "code",
   "execution_count": null,
   "metadata": {
    "slideshow": {
     "slide_type": "subslide"
    }
   },
   "outputs": [],
   "source": [
    "# Drawing a maple leaf, the first half is done for you\n",
    "t = Turtle()\n",
    "t.speed(10)\n",
    "t.pencolor('red')\n",
    "t.penup()\n",
    "t.setposition(200, 300)\n",
    "t.pendown()\n",
    "\n",
    "t.left(90)\n",
    "t.forward(50)\n",
    "\n",
    "t.right(100)\n",
    "t.forward(50)\n",
    "\n",
    "t.left(130)\n",
    "t.forward(20)\n",
    "\n",
    "t.right(90)\n",
    "t.forward(50)\n",
    "\n",
    "t.left(100)\n",
    "t.forward(15)\n",
    "\n",
    "t.right(80)\n",
    "t.forward(30)\n",
    "\n",
    "t.left(130)\n",
    "t.forward(30)\n",
    "\n",
    "t.right(90)\n",
    "t.forward(15)\n",
    "\n",
    "t.left(120)\n",
    "t.forward(40)\n",
    "\n",
    "t.right(120)\n",
    "t.forward(50)\n",
    "\n",
    "t.left(120)\n",
    "t.forward(15)\n",
    "\n",
    "t.right(90)\n",
    "t.forward(30)\n",
    "\n",
    "# we are half done, change the color just for fun\n",
    "t.pencolor('orange')"
   ]
  },
  {
   "cell_type": "markdown",
   "metadata": {
    "slideshow": {
     "slide_type": "slide"
    }
   },
   "source": [
    "### Turtles and Data\n",
    "\n",
    "If you are up for a bigger challenge with turtles and data, try [this](https://hub.callysto.ca/jupyter/hub/user-redirect/git-pull?repo=https://github.com/callysto/TMTeachingTurtles&branch=master&subPath=TMDataTurtles/turtles-and-data-student.ipynb&depth=1)."
   ]
  },
  {
   "cell_type": "markdown",
   "metadata": {
    "slideshow": {
     "slide_type": "slide"
    }
   },
   "source": [
    "For more computational thinking and data science activities, check out [callysto.ca](https://callysto.ca).\n",
    "![logo](https://callysto.ca/wp-content/uploads/2018/07/Callysto-Notebook-Banner_Bottom_07.30.18.jpg)"
   ]
  }
 ],
 "metadata": {
  "celltoolbar": "Slideshow",
  "kernelspec": {
   "display_name": "Python 3",
   "language": "python",
   "name": "python3"
  },
  "language_info": {
   "codemirror_mode": {
    "name": "ipython",
    "version": 3
   },
   "file_extension": ".py",
   "mimetype": "text/x-python",
   "name": "python",
   "nbconvert_exporter": "python",
   "pygments_lexer": "ipython3",
   "version": "3.7.3"
  }
 },
 "nbformat": 4,
 "nbformat_minor": 2
}
