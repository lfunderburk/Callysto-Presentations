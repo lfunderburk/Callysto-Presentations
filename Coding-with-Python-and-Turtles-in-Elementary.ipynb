{
 "cells": [
  {
   "cell_type": "markdown",
   "metadata": {
    "slideshow": {
     "slide_type": "slide"
    }
   },
   "source": [
    "# Coding with Python (and Turtles)\n",
    "\n",
    "We'll be learning some computational thinking using [Python](https://www.python.org/) and [turtles](https://docs.python.org/3.3/library/turtle.html?highlight=turtle).\n",
    "\n",
    "We can run Python code online in a [Jupyter notebook](https://jupyter.org/), like this one. A Jupyter notebook is a document that can have text, multimedia, and code."
   ]
  },
  {
   "cell_type": "markdown",
   "metadata": {},
   "source": [
    "To get your own copy of this notebook, go to \n",
    "\n",
    "It will ask you to log in, use your school Google account. This will create a Callysto Hub account for you."
   ]
  }
 ],
 "metadata": {
  "celltoolbar": "Slideshow",
  "kernelspec": {
   "display_name": "Python 3",
   "language": "python",
   "name": "python3"
  },
  "language_info": {
   "codemirror_mode": {
    "name": "ipython",
    "version": 3
   },
   "file_extension": ".py",
   "mimetype": "text/x-python",
   "name": "python",
   "nbconvert_exporter": "python",
   "pygments_lexer": "ipython3",
   "version": "3.7.3"
  }
 },
 "nbformat": 4,
 "nbformat_minor": 2
}
