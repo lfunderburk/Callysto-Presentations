{
 "cells": [
  {
   "cell_type": "markdown",
   "metadata": {
    "slideshow": {
     "slide_type": "slide"
    }
   },
   "source": [
    "![Callysto.ca Banner](https://github.com/callysto/curriculum-notebooks/blob/master/callysto-notebook-banner-top.jpg?raw=true)"
   ]
  },
  {
   "cell_type": "markdown",
   "metadata": {
    "slideshow": {
     "slide_type": "fragment"
    }
   },
   "source": [
    "# Multiples and Factors in Python (in Jupyter Notebooks)"
   ]
  },
  {
   "cell_type": "markdown",
   "metadata": {
    "slideshow": {
     "slide_type": "subslide"
    }
   },
   "source": [
    "We can run Python code online in a Jupyter notebook. A Jupyter notebook is a document that contains text, multimedia, and code. This slideshow is also a Jupyter notebook, and you can get your own copy at **bit.ly/Callysto6Factors**."
   ]
  },
  {
   "cell_type": "markdown",
   "metadata": {
    "slideshow": {
     "slide_type": "slide"
    }
   },
   "source": [
    "## Multiples"
   ]
  },
  {
   "cell_type": "markdown",
   "metadata": {
    "slideshow": {
     "slide_type": "fragment"
    }
   },
   "source": [
    "Multiples are what you get when you multiply a number by integers."
   ]
  },
  {
   "cell_type": "markdown",
   "metadata": {
    "slideshow": {
     "slide_type": "slide"
    }
   },
   "source": [
    "For example, the first five multiples of 3 are 3, 6, 9, 12, and 15.\n",
    "\n",
    "Let's write some Python code to find multiples of a number."
   ]
  },
  {
   "cell_type": "code",
   "execution_count": null,
   "metadata": {
    "slideshow": {
     "slide_type": "subslide"
    }
   },
   "outputs": [],
   "source": [
    "number = 3\n",
    "howManyMultiples = 5\n",
    "for n in range(1, howManyMultiples + 1): # we need the +1 because range doesn't include the last integer\n",
    "    print(number * n)"
   ]
  },
  {
   "cell_type": "markdown",
   "metadata": {
    "slideshow": {
     "slide_type": "slide"
    }
   },
   "source": [
    "That code printed the first five multiples of 3, but how about some code that will ask for a number and how many multiples."
   ]
  },
  {
   "cell_type": "code",
   "execution_count": null,
   "metadata": {
    "slideshow": {
     "slide_type": "subslide"
    }
   },
   "outputs": [],
   "source": [
    "number = int(input('Give me a number: '))\n",
    "howManyMultiples = int(input('How many multiples of that number do you want? '))\n",
    "print('The first',howManyMultiples,'of',number,'are:')\n",
    "for n in range(1, howManyMultiples+1):\n",
    "    print(number * n)"
   ]
  },
  {
   "cell_type": "markdown",
   "metadata": {
    "slideshow": {
     "slide_type": "slide"
    }
   },
   "source": [
    "### Multiples Practice Problem\n",
    "If every 9th caller to a radio station wins a prize, how many of the first 30 callers will win a prize?"
   ]
  },
  {
   "cell_type": "markdown",
   "metadata": {
    "slideshow": {
     "slide_type": "slide"
    }
   },
   "source": [
    "We can also write some code to find the **lowest common multiple** of two numbers."
   ]
  },
  {
   "cell_type": "code",
   "execution_count": null,
   "metadata": {
    "slideshow": {
     "slide_type": "subslide"
    }
   },
   "outputs": [],
   "source": [
    "number1 = int(input('What is the first number? '))\n",
    "number2 = int(input('What is the second number? '))\n",
    "# figure out which of the two numbers is larger and store it in the variable lcm\n",
    "if number2 > number1:\n",
    "    lcm = number2\n",
    "else:\n",
    "    lcm = number1\n",
    "\n",
    "while(True): # start an infinite loop\n",
    "    if lcm % number1 == 0 and lcm % number2 == 0: # if the remainder of dividing lcm by number1 and number2 is 0\n",
    "        print('The lowest common multiple is', lcm) # we have found the LCM, so print it\n",
    "        break # stop the loop\n",
    "    else:\n",
    "        lcm += 1 # add one to the lcm and try again"
   ]
  },
  {
   "cell_type": "markdown",
   "metadata": {
    "slideshow": {
     "slide_type": "slide"
    }
   },
   "source": [
    "### LCM Practice Problem 1\n",
    "If hamburger buns are sold in packages (multiples) of 12 and hamburger patties are sold in packages of 8, how many hamburgers would you need to make in order to not have any buns or patties left over?"
   ]
  },
  {
   "cell_type": "markdown",
   "metadata": {
    "slideshow": {
     "slide_type": "slide"
    }
   },
   "source": [
    "### LCM Practice Problem 2\n",
    "Starting at the beginning of a month, if I go to the grocery store every seven days and my sister goes every four days, on which day of the month will we both go to the grocery store on the same day?"
   ]
  },
  {
   "cell_type": "markdown",
   "metadata": {
    "slideshow": {
     "slide_type": "slide"
    }
   },
   "source": [
    "## Factors"
   ]
  },
  {
   "cell_type": "markdown",
   "metadata": {
    "slideshow": {
     "slide_type": "fragment"
    }
   },
   "source": [
    "**Factors** of a number can be multiplied to form that number."
   ]
  },
  {
   "cell_type": "markdown",
   "metadata": {
    "slideshow": {
     "slide_type": "subslide"
    }
   },
   "source": [
    "For example, the factors of 6 are 1, 2, 3, and 6 ($1 \\times 6 = 6$ and $ 2 \\times 3 = 6$)."
   ]
  },
  {
   "cell_type": "markdown",
   "metadata": {
    "slideshow": {
     "slide_type": "fragment"
    }
   },
   "source": [
    "A number is **prime** if it has just two factors (1 and itself). A number with more than two factors is a **composite** number.\n",
    "\n",
    "Let's write a little script to find the factors of the number 6."
   ]
  },
  {
   "cell_type": "markdown",
   "metadata": {
    "slideshow": {
     "slide_type": "subslide"
    }
   },
   "source": [
    "To design our algorithm, let's figure out the factors of 6. We'll divide 6 by each number from 1 to 6, **if** the remainder is 0 **then** 6 is divisible by that number."
   ]
  },
  {
   "cell_type": "code",
   "execution_count": null,
   "metadata": {
    "slideshow": {
     "slide_type": "subslide"
    }
   },
   "outputs": [],
   "source": [
    "number = 6\n",
    "factors = []                              # create an empty list where we will store the factors\n",
    "for factor in range(1, number):           # start a loop at 1 and go until we reach the number we stored at the beginning\n",
    "    if number % factor == 0:              # if the remainder of that division is 0 then...\n",
    "        factors.append(factor)            # append the factor we just found to our list of factors\n",
    "factors.append(number)                    # we know that a number is always divisible by itself, so append that\n",
    "print(factors)                            # print the list of factors"
   ]
  },
  {
   "cell_type": "markdown",
   "metadata": {
    "slideshow": {
     "slide_type": "subslide"
    }
   },
   "source": [
    "We found the factors of 6 using that code, and we can change the `number = 6` to find factors of other numbers, but let's rewrite the code to ask for a number then find its factors."
   ]
  },
  {
   "cell_type": "code",
   "execution_count": null,
   "metadata": {
    "slideshow": {
     "slide_type": "subslide"
    }
   },
   "outputs": [],
   "source": [
    "number = int(input('What number to do you want to find factors of? '))\n",
    "factors = []\n",
    "for factor in range(1, number):\n",
    "    if number % factor == 0:\n",
    "        factors.append(factor)\n",
    "factors.append(number)\n",
    "print('The factors of ',number,'are',factors)"
   ]
  },
  {
   "cell_type": "markdown",
   "metadata": {
    "slideshow": {
     "slide_type": "subslide"
    }
   },
   "source": [
    "If we want to see each factor as it is found, which might be useful for numbers with a lot of factors, we can add a print statement inside the loop."
   ]
  },
  {
   "cell_type": "code",
   "execution_count": null,
   "metadata": {
    "slideshow": {
     "slide_type": "subslide"
    }
   },
   "outputs": [],
   "source": [
    "number = int(input('What number to do you want to find factors of? '))\n",
    "factors = []\n",
    "for factor in range(1, number):\n",
    "    if number % factor == 0:\n",
    "        print(factor)\n",
    "        factors.append(factor)\n",
    "factors.append(number)\n",
    "print('The factors of ',number,'are',factors)"
   ]
  },
  {
   "cell_type": "markdown",
   "metadata": {
    "slideshow": {
     "slide_type": "subslide"
    }
   },
   "source": [
    "Of course we wanted to find factors of really large numbers then we could use some shortcuts to make it easier, but this should be good enough for now. If you find your program is running too long (It says `In[*]:` but doesn't seem to be doing anything), you can hold the ctrl key and press c to cancel it.\n",
    "\n",
    "Let's add a little more code to check if the number is prime or composite (remember that a prime number only has two factors)."
   ]
  },
  {
   "cell_type": "code",
   "execution_count": null,
   "metadata": {
    "slideshow": {
     "slide_type": "subslide"
    }
   },
   "outputs": [],
   "source": [
    "number = int(input('What number to do you want to find factors of? '))\n",
    "factors = []\n",
    "for factor in range(1, number):\n",
    "    if number % factor == 0:\n",
    "        print(factor)\n",
    "        factors.append(factor)\n",
    "factors.append(number)\n",
    "print('The factors of ',number,'are',factors)\n",
    "\n",
    "if len(factors) == 2: # if there are only two factors in the list\n",
    "    print(number, 'is a prime number.')\n",
    "else:\n",
    "    print(number, 'is a composite number.')"
   ]
  },
  {
   "cell_type": "markdown",
   "metadata": {
    "slideshow": {
     "slide_type": "slide"
    }
   },
   "source": [
    "### Factors Practice Problem 1\n",
    "Which two single-digit numbers have four factors?"
   ]
  },
  {
   "cell_type": "markdown",
   "metadata": {
    "slideshow": {
     "slide_type": "slide"
    }
   },
   "source": [
    "### Factors Practice Problem 2\n",
    "What is the smallest number that has more than four factors?"
   ]
  },
  {
   "cell_type": "markdown",
   "metadata": {
    "slideshow": {
     "slide_type": "slide"
    }
   },
   "source": [
    "### Factors Practice Problem 3\n",
    "Is 93 a prime or composite number?"
   ]
  },
  {
   "cell_type": "markdown",
   "metadata": {
    "slideshow": {
     "slide_type": "slide"
    }
   },
   "source": [
    "[![Callysto.ca License](https://github.com/callysto/curriculum-notebooks/blob/master/callysto-notebook-banner-bottom.jpg?raw=true)](https://github.com/callysto/curriculum-notebooks/blob/master/LICENSE.md)"
   ]
  }
 ],
 "metadata": {
  "celltoolbar": "Slideshow",
  "kernelspec": {
   "display_name": "Python 3",
   "language": "python",
   "name": "python3"
  },
  "language_info": {
   "codemirror_mode": {
    "name": "ipython",
    "version": 3
   },
   "file_extension": ".py",
   "mimetype": "text/x-python",
   "name": "python",
   "nbconvert_exporter": "python",
   "pygments_lexer": "ipython3",
   "version": "3.7.3"
  }
 },
 "nbformat": 4,
 "nbformat_minor": 2
}
