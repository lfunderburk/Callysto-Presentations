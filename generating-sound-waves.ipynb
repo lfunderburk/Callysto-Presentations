{
 "cells": [
  {
   "cell_type": "markdown",
   "metadata": {},
   "source": [
    "![Callysto.ca Banner](https://github.com/callysto/curriculum-notebooks/blob/master/callysto-notebook-banner-top.jpg?raw=true)"
   ]
  },
  {
   "cell_type": "markdown",
   "metadata": {},
   "source": [
    "# Generating Sound Waves\n",
    "\n",
    "Let's **listen to** and **look at** some different types of sounds. Under the `Cell` or `Runtime` menu above, choose `Run All`. This will generate some sounds and graphs of those sounds using the Python programming language."
   ]
  },
  {
   "cell_type": "code",
   "execution_count": null,
   "metadata": {},
   "outputs": [],
   "source": [
    "from matplotlib.pyplot import plot\n",
    "%matplotlib inline\n",
    "from numpy import random, linspace, sin, pi\n",
    "from scipy.signal import square, sawtooth\n",
    "from IPython.display import Audio\n",
    "sample_rate = 44100\n",
    "length = 2 # the number of seconds to play sound for\n",
    "print('Code libraries successfully imported.')"
   ]
  },
  {
   "cell_type": "markdown",
   "metadata": {},
   "source": [
    "## Random Noise"
   ]
  },
  {
   "cell_type": "code",
   "execution_count": null,
   "metadata": {},
   "outputs": [],
   "source": [
    "random_noise = random.randn(sample_rate)\n",
    "plot(random_noise[0:200])\n",
    "Audio(data=random_noise, rate=sample_rate)"
   ]
  },
  {
   "cell_type": "markdown",
   "metadata": {},
   "source": [
    "# A Pure Note\n",
    "\n",
    "This is what a \"sine wave\" sounds and looks like."
   ]
  },
  {
   "cell_type": "code",
   "execution_count": null,
   "metadata": {},
   "outputs": [],
   "source": [
    "frequency = 440\n",
    "sound = sin(2*pi*frequency*linspace(0, length, sample_rate*length))\n",
    "plot(sound[0:1000])\n",
    "Audio(data=sound, rate=sample_rate)"
   ]
  },
  {
   "cell_type": "markdown",
   "metadata": {},
   "source": [
    "Changing the frequency of the note changes how high or low it is."
   ]
  },
  {
   "cell_type": "code",
   "execution_count": null,
   "metadata": {},
   "outputs": [],
   "source": [
    "frequency = 220\n",
    "sound = sin(2*pi*frequency*linspace(0, length, sample_rate*length))\n",
    "plot(sound[0:1000])\n",
    "Audio(data=sound, rate=sample_rate)"
   ]
  },
  {
   "cell_type": "code",
   "execution_count": null,
   "metadata": {},
   "outputs": [],
   "source": [
    "frequency = 880\n",
    "sound = sin(2*pi*frequency*linspace(0, length, sample_rate*length))\n",
    "plot(sound[0:1000])\n",
    "Audio(data=sound, rate=sample_rate)"
   ]
  },
  {
   "cell_type": "markdown",
   "metadata": {},
   "source": [
    "## Square Wave\n",
    "\n",
    "A wave with a different shape will sound different."
   ]
  },
  {
   "cell_type": "code",
   "execution_count": null,
   "metadata": {},
   "outputs": [],
   "source": [
    "frequency = 440\n",
    "sound = square(2*pi*frequency*linspace(0, length, sample_rate*length))\n",
    "plot(sound[0:1000])\n",
    "Audio(data=sound, rate=sample_rate)"
   ]
  },
  {
   "cell_type": "markdown",
   "metadata": {},
   "source": [
    "## Sawtooth Wave"
   ]
  },
  {
   "cell_type": "code",
   "execution_count": null,
   "metadata": {},
   "outputs": [],
   "source": [
    "frequency = 440\n",
    "sound = sawtooth(2*pi*frequency*linspace(0, length, sample_rate*length))\n",
    "plot(sound[0:1000])\n",
    "Audio(data=sound, rate=sample_rate)"
   ]
  },
  {
   "cell_type": "markdown",
   "metadata": {},
   "source": [
    "## Triangle Wave\n",
    "\n",
    "A more pleasant-sounding version of a sawtooth wave is a triangle wave."
   ]
  },
  {
   "cell_type": "code",
   "execution_count": null,
   "metadata": {},
   "outputs": [],
   "source": [
    "frequency = 440\n",
    "sound = sawtooth(2*pi*frequency*linspace(0, length, sample_rate*length), width=0.5)\n",
    "plot(sound[0:1000])\n",
    "Audio(data=sound, rate=sample_rate)"
   ]
  },
  {
   "cell_type": "markdown",
   "metadata": {},
   "source": [
    "## Next Steps\n",
    "\n",
    "For more information about types of sound waves, check out [sine wave](https://en.wikipedia.org/wiki/Sine_wave), [square wave](https://en.wikipedia.org/wiki/Square_wave), [sawtooth wave](https://en.wikipedia.org/wiki/Sawtooth_wave), and [triangle wave](https://en.wikipedia.org/wiki/Triangle_wave).\n",
    "\n",
    "You may also want to try this [tone generator site](http://tonesgenerator.com/)."
   ]
  },
  {
   "cell_type": "markdown",
   "metadata": {},
   "source": [
    "[![Callysto.ca License](https://github.com/callysto/curriculum-notebooks/blob/master/callysto-notebook-banner-bottom.jpg?raw=true)](https://github.com/callysto/curriculum-notebooks/blob/master/LICENSE.md)"
   ]
  }
 ],
 "metadata": {
  "kernelspec": {
   "display_name": "Python 3",
   "language": "python",
   "name": "python3"
  },
  "language_info": {
   "codemirror_mode": {
    "name": "ipython",
    "version": 3
   },
   "file_extension": ".py",
   "mimetype": "text/x-python",
   "name": "python",
   "nbconvert_exporter": "python",
   "pygments_lexer": "ipython3",
   "version": "3.7.3"
  }
 },
 "nbformat": 4,
 "nbformat_minor": 2
}
