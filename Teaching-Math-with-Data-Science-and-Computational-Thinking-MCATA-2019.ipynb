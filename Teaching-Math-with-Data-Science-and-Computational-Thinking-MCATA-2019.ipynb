{
 "cells": [
  {
   "cell_type": "markdown",
   "metadata": {
    "slideshow": {
     "slide_type": "slide"
    }
   },
   "source": [
    "# Teaching Math with Data Science and Computational Thinking\n",
    "### MCATA Conference 2019\n",
    "\n",
    "David.Hay@cybera.ca | [@misterhay](https://twitter.com/misterhay)\n",
    "\n",
    "[Callysto.ca](https://callysto.ca) | [@callysto_canada](https://twitter.com/callysto_canada)\n",
    "\n",
    "**bit.ly/CallystoMCATA**"
   ]
  },
  {
   "cell_type": "markdown",
   "metadata": {
    "slideshow": {
     "slide_type": "subslide"
    }
   },
   "source": [
    "The ability to process information in an analytical way is becoming increasingly important, and educators are encouraged or expected to promote coding and data analytics. Callysto is a free online platform capable of engaging data visualizations, big data processing, coding, and text formatting.\n",
    "\n",
    "In this session we will explore Python-based modules developed for teaching outcomes in math and other subjects. We will talk about how to incorporate these into your teaching, and help you create or edit modules for other outcomes if you are interested."
   ]
  },
  {
   "cell_type": "markdown",
   "metadata": {
    "slideshow": {
     "slide_type": "slide"
    }
   },
   "source": [
    "## Who is here? What brought you here?"
   ]
  },
  {
   "cell_type": "markdown",
   "metadata": {
    "slideshow": {
     "slide_type": "fragment"
    }
   },
   "source": [
    "Are you a secondary teacher? elementary teacher?"
   ]
  },
  {
   "cell_type": "markdown",
   "metadata": {
    "slideshow": {
     "slide_type": "fragment"
    }
   },
   "source": [
    "How many administrators, consultants, or learning coaches?"
   ]
  },
  {
   "cell_type": "markdown",
   "metadata": {
    "slideshow": {
     "slide_type": "fragment"
    }
   },
   "source": [
    "Who else?"
   ]
  },
  {
   "cell_type": "markdown",
   "metadata": {
    "slideshow": {
     "slide_type": "slide"
    }
   },
   "source": [
    "## Outline\n",
    "\n",
    "1. About CanCode and Callysto\n",
    "2. Jupyter Notebooks\n",
    "3. Computational Thinking and Data Analysis\n",
    "4. Call to Action"
   ]
  },
  {
   "cell_type": "markdown",
   "metadata": {
    "slideshow": {
     "slide_type": "slide"
    }
   },
   "source": [
    "![CanCode Banner](https://www.ic.gc.ca/eic/site/121.nsf/vwimages/WEBBANNER-CanCode-EN.jpg/$file/WEBBANNER-CanCode-EN.jpg)\n",
    "\n",
    "CanCode aims to equip Canadian youth, including traditionally underrepresented groups, with the skills they need to be prepared for further studies, including advanced digital skills and science, technology, engineering and math (STEM) courses, leading to the jobs of the future. Canada's success in the digital economy depends on leveraging our diverse talent and providing opportunity for all to participate — investing in digital skills development will help to achieve this."
   ]
  },
  {
   "cell_type": "markdown",
   "metadata": {
    "slideshow": {
     "slide_type": "slide"
    }
   },
   "source": [
    "![Callysto Logo](https://callysto.ca/wp-content/uploads/2018/06/Callysto_Notebook-Banner_Top_06.06.18.jpg)\n",
    "\n",
    "Callysto is a free, interactive, curriculum-based learning and skills development tool — think “interactive textbook” — that can be accessed from any device with an internet connection. It was created to help students strengthen their computational thinking, coding and data science skills."
   ]
  },
  {
   "cell_type": "markdown",
   "metadata": {
    "slideshow": {
     "slide_type": "slide"
    }
   },
   "source": [
    "<img src=\"callysto-impact.png\" width=\"500\">"
   ]
  },
  {
   "cell_type": "markdown",
   "metadata": {
    "slideshow": {
     "slide_type": "subslide"
    }
   },
   "source": [
    "## Callysto is by:"
   ]
  },
  {
   "cell_type": "markdown",
   "metadata": {
    "slideshow": {
     "slide_type": "subslide"
    }
   },
   "source": [
    "![Cybera Info](https://www.cybera.ca/wp-content/uploads/2018/07/Artboard-1-copy.png)"
   ]
  },
  {
   "cell_type": "markdown",
   "metadata": {
    "slideshow": {
     "slide_type": "subslide"
    }
   },
   "source": [
    "![PIMS Logo](http://media.pims.math.ca/logos/webhorizfulllarge.png)\n",
    "\n",
    "PIMS is a collaborative network dedicated to the promotion of discovery, understanding and awareness in the mathematical sciences. PIMS brings together leading researchers from major Universities across western Canada, as well as the University of Washington, and is a Unité Mixte Internationale of the National Center for Scientific Research (Le Centre national de la recherche scientifique, CNRS)."
   ]
  },
  {
   "cell_type": "markdown",
   "metadata": {
    "slideshow": {
     "slide_type": "subslide"
    }
   },
   "source": [
    "### Callysto includes:\n",
    "- infrastructure: [Jupyter Hub](https://hub.callysto.ca)\n",
    "- resources: [learning modules](https://callysto.ca/learning_modules/) (that also run on sites like [Colab](https://colab.research.google.com), [Azure](https://notebooks.azure.com/), and [Watson Studio](https://www.ibm.com/uk-en/cloud/watson-studio))\n",
    "- teacher and student training"
   ]
  },
  {
   "cell_type": "markdown",
   "metadata": {
    "slideshow": {
     "slide_type": "slide"
    }
   },
   "source": [
    "## What is a Jupyter Notebook?\n",
    "\n",
    "- a browser-based document\n",
    "- contains text, graphics, LaTeX, multimedia, and live code (Python)\n",
    "- easily usable, modifiable, and sharable\n",
    "This presentation is a Jupyter Notebook"
   ]
  },
  {
   "cell_type": "markdown",
   "metadata": {
    "slideshow": {
     "slide_type": "subslide"
    }
   },
   "source": [
    "### Embedded Video Example\n"
   ]
  },
  {
   "cell_type": "code",
   "execution_count": null,
   "metadata": {
    "slideshow": {
     "slide_type": "fragment"
    }
   },
   "outputs": [],
   "source": [
    "from IPython.display import YouTubeVideo\n",
    "YouTubeVideo('ZmhlRsYjs7Y')"
   ]
  },
  {
   "cell_type": "code",
   "execution_count": null,
   "metadata": {
    "slideshow": {
     "slide_type": "subslide"
    }
   },
   "outputs": [],
   "source": [
    "# Code example\n",
    "2 + 2"
   ]
  },
  {
   "cell_type": "markdown",
   "metadata": {
    "slideshow": {
     "slide_type": "subslide"
    }
   },
   "source": [
    "### LaTeX Example\n",
    "$ E = mc^2 $ for special relativity and and also $ R_{\\mu \\nu} - \\frac{1}{2} R g_{\\mu \\nu}   + \\Lambda g_{\\mu \\nu} \n",
    "= \\frac{8\\pi G}{c^4} T_{\\mu \\nu}.$"
   ]
  },
  {
   "cell_type": "markdown",
   "metadata": {
    "slideshow": {
     "slide_type": "slide"
    }
   },
   "source": [
    "## Graphics: Plots and Animations\n",
    "\n",
    "We can create graphs of functions or data."
   ]
  },
  {
   "cell_type": "code",
   "execution_count": null,
   "metadata": {
    "slideshow": {
     "slide_type": "subslide"
    }
   },
   "outputs": [],
   "source": [
    "# import libraries\n",
    "from numpy import linspace, pi, sin, nan\n",
    "import matplotlib.pyplot as plt\n",
    "import matplotlib.animation as animation\n",
    "from IPython.display import HTML\n",
    "%matplotlib inline"
   ]
  },
  {
   "cell_type": "code",
   "execution_count": null,
   "metadata": {
    "slideshow": {
     "slide_type": "subslide"
    }
   },
   "outputs": [],
   "source": [
    "# create a graph\n",
    "fig, ax = plt.subplots()\n",
    "x = linspace(0, 2*pi, 100)\n",
    "line, = ax.plot(x, sin(x))"
   ]
  },
  {
   "cell_type": "code",
   "execution_count": null,
   "metadata": {
    "slideshow": {
     "slide_type": "subslide"
    }
   },
   "outputs": [],
   "source": [
    "# animate the graph\n",
    "def animate(i):\n",
    "    line.set_ydata(sin(x + 2*pi*i / 100))  # update the data.\n",
    "    return line,\n",
    "\n",
    "ani = animation.FuncAnimation(fig, animate, interval=20, save_count=100)\n",
    "HTML(ani.to_jshtml())"
   ]
  },
  {
   "cell_type": "markdown",
   "metadata": {
    "slideshow": {
     "slide_type": "subslide"
    }
   },
   "source": [
    "## Graphing Data\n",
    "\n",
    "We can retrive data from online sources and display it in tables or graphs."
   ]
  },
  {
   "cell_type": "code",
   "execution_count": null,
   "metadata": {
    "slideshow": {
     "slide_type": "subslide"
    }
   },
   "outputs": [],
   "source": [
    "import requests\n",
    "import pandas as pd\n",
    "import plotly.express as px\n",
    "\n",
    "# Get tide data from Fisheries and Oceans Canada for Advocate Harbour (hourly for the next 7 days)\n",
    "url = 'https://www.waterlevels.gc.ca/eng/station?sid=215' # Joggins Wharf\n",
    "response = requests.get(url)\n",
    "\n",
    "dfs = pd.read_html(response.text) # construct dataframe\n",
    "tideHeight = dfs[7]['Hour'].transpose() # select the 7th frame and transpose columns and rows\n",
    "\n",
    "tideList = [] # construct a list from the tideHeight data\n",
    "for key in tideHeight.keys():\n",
    "    tideList.extend(tideHeight[key].tolist())\n",
    "\n",
    "df = pd.DataFrame(tideList) # turn the list into a dataframe\n",
    "df.columns = ['Height (m)'] # label the height column\n",
    "df['Time (h)'] = range(0,len(tideList)) # add a time (in hours) column"
   ]
  },
  {
   "cell_type": "code",
   "execution_count": null,
   "metadata": {
    "slideshow": {
     "slide_type": "subslide"
    }
   },
   "outputs": [],
   "source": [
    "fig = px.line(df, x='Time (h)', y='Height (m)', title='Joggins Wharf Tides') # create graph\n",
    "fig.show()"
   ]
  },
  {
   "cell_type": "markdown",
   "metadata": {
    "slideshow": {
     "slide_type": "subslide"
    }
   },
   "source": [
    "### GeoGebra and Desmos Examples\n",
    "\n",
    "We can display Desmos or GeoGebra applets, or other web pages, inside an iframe."
   ]
  },
  {
   "cell_type": "code",
   "execution_count": null,
   "metadata": {
    "slideshow": {
     "slide_type": "subslide"
    }
   },
   "outputs": [],
   "source": [
    "import IPython\n",
    "IPython.display.IFrame('https://www.geogebra.org/geometry/xfbk482w','100%','480px') # URL, width, height"
   ]
  },
  {
   "cell_type": "code",
   "execution_count": null,
   "metadata": {
    "slideshow": {
     "slide_type": "subslide"
    }
   },
   "outputs": [],
   "source": [
    "IPython.display.IFrame('https://www.desmos.com/calculator/6dpcugds4t','100%','480px')"
   ]
  },
  {
   "cell_type": "markdown",
   "metadata": {
    "slideshow": {
     "slide_type": "subslide"
    }
   },
   "source": [
    "## Turtles\n",
    "Drawing geometry with turtles, just like [Logo](https://en.wikipedia.org/wiki/Logo_(programming_language))"
   ]
  },
  {
   "cell_type": "code",
   "execution_count": null,
   "metadata": {
    "slideshow": {
     "slide_type": "subslide"
    }
   },
   "outputs": [],
   "source": [
    "# Uncomment the following line if mobilechelonian isn't already installed\n",
    "#!pip install --user mobilechelonian\n",
    "from mobilechelonian import Turtle\n",
    "t = Turtle()\n",
    "t.forward(50)\n",
    "t.right(90)\n",
    "t.forward(50)"
   ]
  },
  {
   "cell_type": "markdown",
   "metadata": {
    "slideshow": {
     "slide_type": "subslide"
    }
   },
   "source": [
    "### Turtle Commands\n",
    "\n",
    "`t.speed(integer)`\n",
    "Speed of your turtle, 1-10\n",
    "\n",
    "`t.penup()`\n",
    "`t.pendown()`\n",
    "For drawing lines or not\n",
    "\n",
    "`t.right(degrees)`\n",
    "`t.left(degrees)`\n",
    "Turn turtle left or right by some degree\n",
    "\n",
    "`t.forward(units)`\n",
    "`t.backward(units)`\n",
    "Move your turtle forward or backward\n",
    "\n",
    "`t.pencolor(“color”)`\n",
    "Color of your turtle’s line, e.g. “blue”\n",
    "\n",
    "`t.setposition(x,y)`\n",
    "Move turtle to position x,y\n",
    "\n",
    "`t.circle(r, degrees)`\n",
    "Draw a piece of a circle of radius r some number of degrees"
   ]
  },
  {
   "cell_type": "markdown",
   "metadata": {
    "slideshow": {
     "slide_type": "slide"
    }
   },
   "source": [
    "## Computational Thinking\n",
    "\n",
    "1. Decomposition - break down a problem\n",
    "2. Pattern recognition - find trends in problem\n",
    "3. Algorithm design - create a series of steps to solve problem\n",
    "4. Abstraction - remove parts to generalize solution\n",
    "5. Analyze and evaluate the solution\n",
    "\n",
    "Coming with new curriculum in math and science, but also applicable to other disciplines.\n",
    "\n",
    "This may involve coding, but it's more about designing problems that can be solved by computers."
   ]
  },
  {
   "cell_type": "code",
   "execution_count": null,
   "metadata": {
    "slideshow": {
     "slide_type": "slide"
    }
   },
   "outputs": [],
   "source": [
    "# Elementary Math Example\n",
    "n = input('How many numbers will we sort? ')\n",
    "numberList = []\n",
    "for x in range(0, int(n)):\n",
    "    newNumber = input(str(x+1) + ' Give me a number: ')\n",
    "    numberList.append(newNumber)\n",
    "numberList.sort()\n",
    "print(numberList)"
   ]
  },
  {
   "cell_type": "markdown",
   "metadata": {
    "slideshow": {
     "slide_type": "slide"
    }
   },
   "source": [
    "## Data Analysis\n",
    "\n",
    "Can be student data, machine- or sensor-generated data, curated data, or open data."
   ]
  },
  {
   "cell_type": "markdown",
   "metadata": {
    "slideshow": {
     "slide_type": "subslide"
    }
   },
   "source": [
    "### Canadian Open Data\n",
    "1. [Statistics Canada](https://www150.statcan.gc.ca/n1/en/type/data?MM=1)\n",
    "1. [Canada Open Data](https://open.canada.ca/en) (Contains many data sets for provinces or territories without their own open data portal)\n",
    "1. [Alberta Open Data](https://open.alberta.ca/opendata)\n",
    "1. [BC Open Data](https://data.gov.bc.ca/)\n",
    "1. [Saskatchewan Open Data](http://www.opendatask.ca/)\n",
    "1. [Northwest Territories Open Data](https://www.opennwt.ca/)\n",
    "1. [Ontario Open Data](https://www.ontario.ca/search/data-catalogue)\n",
    "1. [Quebec Open Data](http://donnees.ville.quebec.qc.ca/catalogue.aspx) (French only)\n",
    "1. [Nova Scotia Open Data](https://data.novascotia.ca/)\n",
    "1. [PEI Open Data](https://data.princeedwardisland.ca/)\n",
    "1. [Calgary Open Data Portal](https://data.calgary.ca/)\n",
    "1. [Edmonton Open Data Portal](https://data.edmonton.ca/)\n",
    "1. [Vancouver Open Data Portal](https://vancouver.ca/your-government/open-data-catalogue.aspx)\n",
    "1. [Toronto Open Data Portal](https://www.toronto.ca/city-government/data-research-maps/open-data/)\n",
    "1. [Winnipeg Open Data Portal](https://data.winnipeg.ca/)\n",
    "1. [Whitehorse Open Data](http://data.whitehorse.ca)\n",
    "\n",
    "*Many cities, provinces, and territories offer their own open data portals, and can often be found through a Google search of \"`CITY NAME` open data portal\"*"
   ]
  },
  {
   "cell_type": "markdown",
   "metadata": {
    "slideshow": {
     "slide_type": "subslide"
    }
   },
   "source": [
    "### Other Governments\n",
    "1. [EU Open Data](https://open-data.europa.eu/)\n",
    "1. [USA](https://www.data.gov/)\n",
    "1. [Australia](https://data.gov.au/)\n",
    "1. [NASA](https://open.nasa.gov/open-data/)\n",
    "1. [Russia](http://data.gov.ru/?language=en) (Site is in English, but many of the datasets are in Russian)\n",
    "\n",
    "*There are many national open data portals: these are just a few.*\n",
    "\n",
    "### Data Aggregators  \n",
    "1. [Kaggle](https://www.kaggle.com/datasets)\n",
    "1. [Open Data Soft](https://data.opendatasoft.com/pages/home/)\n",
    "1. [Open Africa](https://africaopendata.org/)\n",
    "1. [List of interesting data sets](https://github.com/awesomedata/awesome-public-datasets)\n",
    "1. [Open Data Network](https://www.opendatanetwork.com/) (Technically speaking, this is a data set search engine)\n",
    "1. [Google Public Data](https://www.google.com/publicdata/directory)"
   ]
  },
  {
   "cell_type": "markdown",
   "metadata": {
    "slideshow": {
     "slide_type": "slide"
    }
   },
   "source": [
    "## Examples\n",
    "\n",
    "[Sine fit to tides data](https://hub.callysto.ca/jupyter/hub/user-redirect/git-pull?repo=https://github.com/misterhay/RabbitMath&branch=master&urlpath=notebooks/RabbitMath/14-The-period-of-the-tides/14.1-The-period-of-the-tides.ipynb)\n",
    "\n",
    "[Frog statistics problem](https://hub.callysto.ca/jupyter/hub/user-redirect/git-pull?repo=https://github.com/misterhay/frog_problem&branch=master&urlpath=notebooks/frog_problem/frog-jump-statistics-problem.ipynb)\n",
    "\n",
    "[TED Ed Riddles](https://hub.callysto.ca/jupyter/hub/user-redirect/git-pull?repo=https://github.com/callysto/riddles)"
   ]
  },
  {
   "cell_type": "markdown",
   "metadata": {
    "slideshow": {
     "slide_type": "slide"
    }
   },
   "source": [
    "## Call to Action\n",
    "\n",
    "1. Explore curriculum-aligned resources at https://callysto.ca/learning_modules\n",
    "2. Use resources and the Callysto Hub https://hub.callysto.ca with students\n",
    "    1. sign in using Google, Microsoft, or Cybera (Pika)\n",
    "    2. each user gets their own Jupyter server\n",
    "    3. get a copy of this notebook from **bit.ly/CallystoMCATA**\n",
    "3. Encourage other teachers to try it out\n",
    "4. Consider beta testing the online course \"[Callysto and Computational Thinking](https://courses.callysto.farm/)\"\n",
    "5. Suggest or develop and share notebooks\n",
    "    1. we can help\n",
    "    2. [call for proposals](http://bit.ly/callysto-proposals)"
   ]
  },
  {
   "cell_type": "markdown",
   "metadata": {
    "slideshow": {
     "slide_type": "slide"
    }
   },
   "source": [
    "## Get in Touch\n",
    "\n",
    "[Callysto.ca](https://callysto.ca) | [@callysto_canada](https://twitter.com/callysto_canada)\n",
    "\n",
    "David.Hay@cybera.ca | [@misterhay](https://twitter.com/misterhay)\n",
    "\n",
    "Rajan.Patel@cybera.ca"
   ]
  }
 ],
 "metadata": {
  "celltoolbar": "Slideshow",
  "kernelspec": {
   "display_name": "Python 3",
   "language": "python",
   "name": "python3"
  },
  "language_info": {
   "codemirror_mode": {
    "name": "ipython",
    "version": 3
   },
   "file_extension": ".py",
   "mimetype": "text/x-python",
   "name": "python",
   "nbconvert_exporter": "python",
   "pygments_lexer": "ipython3",
   "version": "3.7.3"
  }
 },
 "nbformat": 4,
 "nbformat_minor": 2
}
