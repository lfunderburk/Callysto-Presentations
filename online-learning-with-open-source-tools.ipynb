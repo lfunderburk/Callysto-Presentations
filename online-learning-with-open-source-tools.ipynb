{
 "cells": [
  {
   "cell_type": "markdown",
   "metadata": {
    "slideshow": {
     "slide_type": "slide"
    }
   },
   "source": [
    "# Online Learning with Open Source Tools\n",
    "\n",
    "\n",
    "David Hay | [@misterhay](https://twitter.com/misterhay)\n",
    "\n",
    "[![Creative Commons: Attribution](https://i.creativecommons.org/l/by/4.0/88x31.png)](https://creativecommons.org/licenses/by/4.0/)"
   ]
  },
  {
   "cell_type": "markdown",
   "metadata": {
    "slideshow": {
     "slide_type": "subslide"
    }
   },
   "source": [
    "## Outline\n",
    "\n",
    "You may be familiar with some online learning and video conferencing platforms already. In this session we will talk about free tools that you can use for online learning, either to supplement or replace proprietary tools. This includes learning management systems, videoconferencing, whiteboarding, and other software and platforms. We'll also touchon open educational resources and creative commons licensing."
   ]
  },
  {
   "cell_type": "markdown",
   "metadata": {
    "slideshow": {
     "slide_type": "slide"
    }
   },
   "source": [
    "## Operating System and Browser\n",
    "- Linux (e.g. [Ubuntu](https://ubuntu.com/) or [Peppermint](https://peppermintos.com/))\n",
    "- [Firefox](https://www.mozilla.org/en-US/exp/firefox/new/)\n",
    "- [Chromium](https://www.chromium.org/)"
   ]
  },
  {
   "cell_type": "markdown",
   "metadata": {
    "slideshow": {
     "slide_type": "slide"
    }
   },
   "source": [
    "## Learning Management System\n",
    "- [Moodle](https://moodle.org/)\n",
    "- [Open edX](https://open.edx.org/)\n",
    "- [Canvas](https://www.instructure.com/canvas/)"
   ]
  },
  {
   "cell_type": "markdown",
   "metadata": {
    "slideshow": {
     "slide_type": "slide"
    }
   },
   "source": [
    "## Video Calls (and Audio)\n",
    "- [Jitsi Meet](https://meet.jit.si/)\n",
    "- [Big Blue Button](https://bigbluebutton.org/)\n",
    "- [Unhangout](https://unhangout.media.mit.edu/)\n",
    "- [Mumble](https://www.mumble.info/)"
   ]
  },
  {
   "cell_type": "markdown",
   "metadata": {
    "slideshow": {
     "slide_type": "slide"
    }
   },
   "source": [
    "## Office Suite (and Collaboration)\n",
    "- [Libre Office](https://www.libreoffice.org/)\n",
    "- [Nextcloud](https://nextcloud.com/)\n",
    "- [Etherpad](https://etherpad.org/)"
   ]
  },
  {
   "cell_type": "markdown",
   "metadata": {
    "slideshow": {
     "slide_type": "slide"
    }
   },
   "source": [
    "## Whiteboarding\n",
    "- [OpenBoard](https://openboard.ch/index.en.html)\n",
    "- [Dead Simple Whiteboard](http://deadsimplewhiteboard.herokuapp.com/)\n",
    "- [WBO (Whiteboard Online)](https://wbo.ophir.dev/)"
   ]
  },
  {
   "cell_type": "markdown",
   "metadata": {
    "slideshow": {
     "slide_type": "slide"
    }
   },
   "source": [
    "## Diagrams and Graphics\n",
    "- [Inkscape](https://inkscape.org/)\n",
    "- [GIMP](https://www.gimp.org/)\n",
    "- [Krita](https://krita.org/en/)\n",
    "- [MyPaint](http://mypaint.org/)"
   ]
  },
  {
   "cell_type": "markdown",
   "metadata": {
    "slideshow": {
     "slide_type": "slide"
    }
   },
   "source": [
    "## Audio Recording and Editing\n",
    "- [Audacity](https://www.audacityteam.org/)\n",
    "- [Ardour](https://ardour.org/)"
   ]
  },
  {
   "cell_type": "markdown",
   "metadata": {
    "slideshow": {
     "slide_type": "slide"
    }
   },
   "source": [
    "## Video Editing\n",
    "- [OpenShot](https://www.openshot.org/)\n",
    "- [Shotcut](https://shotcut.org/)"
   ]
  },
  {
   "cell_type": "markdown",
   "metadata": {
    "slideshow": {
     "slide_type": "slide"
    }
   },
   "source": [
    "## Video Hosting\n",
    "\n",
    "If you are not hosting video in your LMS.\n",
    "\n",
    "- [MediaGoblin](https://mediagoblin.org/)\n",
    "- [Kaltura](http://www.kaltura.org/)\n",
    "- [ClipBucket](https://clipbucket.com/)"
   ]
  },
  {
   "cell_type": "markdown",
   "metadata": {
    "slideshow": {
     "slide_type": "slide"
    }
   },
   "source": [
    "## Video Streaming\n",
    "\n",
    "- [OBS Studio](https://obsproject.com/) (also for screen recording)\n",
    "- [MistServer](https://mistserver.org/)"
   ]
  },
  {
   "cell_type": "markdown",
   "metadata": {
    "slideshow": {
     "slide_type": "slide"
    }
   },
   "source": [
    "## eBooks\n",
    "- [Pressbooks](https://pressbooks.com/)\n",
    "- [Calibre](https://calibre-ebook.com/)"
   ]
  },
  {
   "cell_type": "markdown",
   "metadata": {
    "slideshow": {
     "slide_type": "slide"
    }
   },
   "source": [
    "## Coding (online and offline)\n",
    "- [Visual Studio Code](https://code.visualstudio.com/)\n",
    "- Jupyter (e.g. [Callysto Hub](https://hub.callysto.ca/))"
   ]
  },
  {
   "cell_type": "markdown",
   "metadata": {
    "slideshow": {
     "slide_type": "slide"
    }
   },
   "source": [
    "## Other?"
   ]
  },
  {
   "cell_type": "markdown",
   "metadata": {
    "slideshow": {
     "slide_type": "slide"
    }
   },
   "source": [
    "# Open Educational Resources\n",
    "\n",
    "According to [Wikipedia](https://en.wikipedia.org/wiki/Open_educational_resources):\n",
    "\n",
    "\"freely accessible, openly licensed text, media, and other digital assets that are useful for teaching, learning, and assessing as well as for research purposes\"\n",
    "\n",
    "e.g. [OER Commons](https://www.oercommons.org/)"
   ]
  },
  {
   "cell_type": "markdown",
   "metadata": {
    "slideshow": {
     "slide_type": "slide"
    }
   },
   "source": [
    "# Creative Commons and Public Domain\n",
    "\n",
    "Open licensing for creative works, e.g. [CC:BY](https://creativecommons.org/licenses/by/4.0/)\n",
    "\n",
    "Text, Audio, Video, etc."
   ]
  },
  {
   "cell_type": "markdown",
   "metadata": {
    "slideshow": {
     "slide_type": "slide"
    }
   },
   "source": [
    "# Online Learning with Open Source Tools\n",
    "\n",
    "David Hay | [@misterhay](https://twitter.com/misterhay)\n",
    "\n",
    "[![Creative Commons: Attribution](https://i.creativecommons.org/l/by/4.0/88x31.png)](https://creativecommons.org/licenses/by/4.0/)"
   ]
  }
 ],
 "metadata": {
  "celltoolbar": "Slideshow",
  "kernelspec": {
   "display_name": "Python 3",
   "language": "python",
   "name": "python3"
  },
  "language_info": {
   "codemirror_mode": {
    "name": "ipython",
    "version": 3
   },
   "file_extension": ".py",
   "mimetype": "text/x-python",
   "name": "python",
   "nbconvert_exporter": "python",
   "pygments_lexer": "ipython3",
   "version": "3.7.6"
  }
 },
 "nbformat": 4,
 "nbformat_minor": 4
}
