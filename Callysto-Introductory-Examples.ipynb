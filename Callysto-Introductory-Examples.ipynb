{
 "cells": [
  {
   "cell_type": "markdown",
   "metadata": {},
   "source": [
    "# Callysto Introductory Examples\n",
    "\n",
    "This notebook contains some code and markdown to get you started with Jupyter and Python."
   ]
  },
  {
   "cell_type": "markdown",
   "metadata": {},
   "source": [
    "## Multimedia"
   ]
  },
  {
   "cell_type": "code",
   "execution_count": null,
   "metadata": {},
   "outputs": [],
   "source": [
    "from IPython.display import YouTubeVideo\n",
    "YouTubeVideo('ZmhlRsYjs7Y')"
   ]
  },
  {
   "cell_type": "markdown",
   "metadata": {},
   "source": [
    "## Math"
   ]
  },
  {
   "cell_type": "code",
   "execution_count": null,
   "metadata": {},
   "outputs": [],
   "source": [
    "2 + 2"
   ]
  },
  {
   "cell_type": "code",
   "execution_count": null,
   "metadata": {},
   "outputs": [],
   "source": [
    "# Elementary Math Example\n",
    "n = input('How many numbers will we sort? ')\n",
    "numberList = []\n",
    "for x in range(0, int(n)):\n",
    "    newNumber = input(str(x+1) + ' Give me a number: ')\n",
    "    numberList.append(float(newNumber))\n",
    "numberList.sort()\n",
    "print(numberList)"
   ]
  },
  {
   "cell_type": "markdown",
   "metadata": {},
   "source": [
    "## LaTeX\n",
    "$ E = mc^2 $ for special relativity and and also $ R_{\\mu \\nu} - \\frac{1}{2} R g_{\\mu \\nu}   + \\Lambda g_{\\mu \\nu} \n",
    "= \\frac{8\\pi G}{c^4} T_{\\mu \\nu}.$"
   ]
  },
  {
   "cell_type": "markdown",
   "metadata": {},
   "source": [
    "## Graphics: Plots and Animations"
   ]
  },
  {
   "cell_type": "code",
   "execution_count": null,
   "metadata": {},
   "outputs": [],
   "source": [
    "# import libraries\n",
    "from numpy import linspace, pi, sin, nan\n",
    "import matplotlib.pyplot as plt\n",
    "import matplotlib.animation as animation\n",
    "from IPython.display import HTML\n",
    "%matplotlib inline\n",
    "\n",
    "print('Libraries successfully imported')"
   ]
  },
  {
   "cell_type": "code",
   "execution_count": null,
   "metadata": {},
   "outputs": [],
   "source": [
    "# create a graph\n",
    "fig, ax = plt.subplots()\n",
    "x = linspace(0, 10*pi, 100)\n",
    "line, = ax.plot(x, sin(x))"
   ]
  },
  {
   "cell_type": "code",
   "execution_count": null,
   "metadata": {},
   "outputs": [],
   "source": [
    "# animate the graph\n",
    "def animate(i):\n",
    "    line.set_ydata(sin(x + 2*pi*i / 100))  # update the data.\n",
    "    return line,\n",
    "\n",
    "ani = animation.FuncAnimation(fig, animate, interval=20, save_count=100)\n",
    "HTML(ani.to_jshtml())"
   ]
  },
  {
   "cell_type": "markdown",
   "metadata": {},
   "source": [
    "## Graphing Data"
   ]
  },
  {
   "cell_type": "code",
   "execution_count": null,
   "metadata": {},
   "outputs": [],
   "source": [
    "import requests\n",
    "import pandas as pd\n",
    "import plotly.express as px\n",
    "\n",
    "# Get tide data from Fisheries and Oceans Canada for Joggins Wharf (hourly for the next 7 days)\n",
    "url = 'https://www.waterlevels.gc.ca/eng/station?sid=215'\n",
    "response = requests.get(url)\n",
    "\n",
    "dfs = pd.read_html(response.text) # construct dataframe\n",
    "tideHeight = dfs[7]['Hour'].transpose() # select the 7th frame and transpose columns and rows\n",
    "\n",
    "tideList = [] # construct a list from the tideHeight data\n",
    "for key in tideHeight.keys():\n",
    "    tideList.extend(tideHeight[key].tolist())\n",
    "\n",
    "df = pd.DataFrame(tideList) # turn the list into a dataframe\n",
    "df.columns = ['Height (m)'] # label the height column\n",
    "df['Time (h)'] = range(0,len(tideList)) # add a time (in hours) column\n",
    "\n",
    "print('Libraries and data imported')"
   ]
  },
  {
   "cell_type": "code",
   "execution_count": null,
   "metadata": {},
   "outputs": [],
   "source": [
    "fig = px.line(df, x='Time (h)', y='Height (m)', title='Joggins Wharf Tide Data') # create graph\n",
    "fig.show()"
   ]
  },
  {
   "cell_type": "markdown",
   "metadata": {},
   "source": [
    "## Turtle Drawing"
   ]
  },
  {
   "cell_type": "code",
   "execution_count": null,
   "metadata": {},
   "outputs": [],
   "source": [
    "# Uncomment the following line if plotly isn't already installed\n",
    "#!pip install --user mobilechelonian\n",
    "# then you will need to click Restart under the Kernel menu\n",
    "\n",
    "from mobilechelonian import Turtle\n",
    "t = Turtle()\n",
    "t.forward(50)\n",
    "t.right(90)\n",
    "t.forward(50)"
   ]
  },
  {
   "cell_type": "markdown",
   "metadata": {},
   "source": [
    "### Turtle Commands\n",
    "\n",
    "`t.speed(integer)`\n",
    "Speed of your turtle, 1-10\n",
    "\n",
    "`t.penup()`\n",
    "`t.pendown()`\n",
    "For drawing lines or not\n",
    "\n",
    "`t.right(degrees)`\n",
    "`t.left(degrees)`\n",
    "Turn turtle left or right by some degree\n",
    "\n",
    "`t.forward(units)`\n",
    "`t.backward(units)`\n",
    "Move your turtle forward or backward\n",
    "\n",
    "`t.pencolor(“color”)`\n",
    "Color of your turtle’s line, e.g. “blue”\n",
    "\n",
    "`t.setposition(x,y)`\n",
    "Move turtle to position x,y\n",
    "\n",
    "`t.circle(r, degrees)`\n",
    "Move through part of a circle of radius $r$ through some number of degrees"
   ]
  },
  {
   "cell_type": "markdown",
   "metadata": {},
   "source": [
    "# Data Sources\n",
    "## Canadian Open Data\n",
    "1. [Statistics Canada](https://www150.statcan.gc.ca/n1/en/type/data?MM=1)\n",
    "1. [Canada Open Data](https://open.canada.ca/en) (Contains many data sets for provinces or territories without their own open data portal)\n",
    "1. [Alberta Open Data](https://open.alberta.ca/opendata)\n",
    "1. [BC Open Data](https://data.gov.bc.ca/)\n",
    "1. [Saskatchewan Open Data](http://www.opendatask.ca/)\n",
    "1. [Northwest Territories Open Data](https://www.opennwt.ca/)\n",
    "1. [Ontario Open Data](https://www.ontario.ca/search/data-catalogue)\n",
    "1. [Quebec Open Data](http://donnees.ville.quebec.qc.ca/catalogue.aspx) (French only)\n",
    "1. [Nova Scotia Open Data](https://data.novascotia.ca/)\n",
    "1. [PEI Open Data](https://data.princeedwardisland.ca/)\n",
    "1. [Calgary Open Data Portal](https://data.calgary.ca/)\n",
    "1. [Edmonton Open Data Portal](https://data.edmonton.ca/)\n",
    "1. [Vancouver Open Data Portal](https://vancouver.ca/your-government/open-data-catalogue.aspx)\n",
    "1. [Toronto Open Data Portal](https://www.toronto.ca/city-government/data-research-maps/open-data/)\n",
    "1. [Winnipeg Open Data Portal](https://data.winnipeg.ca/)\n",
    "1. [Whitehorse Open Data](http://data.whitehorse.ca)\n",
    "\n",
    "*Many cities, provinces, and territories offer their own open data portals, and can often be found through a Google search of \"`CITY NAME` open data portal\"*\n",
    "\n",
    "## Data Aggregators  \n",
    "1. [Kaggle](https://www.kaggle.com/datasets)\n",
    "1. [Open Data Soft](https://data.opendatasoft.com/pages/home/)\n",
    "1. [Open Africa](https://africaopendata.org/)\n",
    "1. [List of interesting data sets](https://github.com/awesomedata/awesome-public-datasets)\n",
    "1. [Open Data Network](https://www.opendatanetwork.com/) (Technically speaking, this is a data set search engine)\n",
    "1. [Google Public Data](https://www.google.com/publicdata/directory)"
   ]
  }
 ],
 "metadata": {
  "kernelspec": {
   "display_name": "Python 3",
   "language": "python",
   "name": "python3"
  },
  "language_info": {
   "codemirror_mode": {
    "name": "ipython",
    "version": 3
   },
   "file_extension": ".py",
   "mimetype": "text/x-python",
   "name": "python",
   "nbconvert_exporter": "python",
   "pygments_lexer": "ipython3",
   "version": "3.7.3"
  }
 },
 "nbformat": 4,
 "nbformat_minor": 2
}
